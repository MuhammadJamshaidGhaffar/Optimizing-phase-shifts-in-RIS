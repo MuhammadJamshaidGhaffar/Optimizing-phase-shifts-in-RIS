{
 "cells": [
  {
   "cell_type": "markdown",
   "id": "019dbeb8",
   "metadata": {},
   "source": [
    "# Step 0: Imports and coefficients"
   ]
  },
  {
   "cell_type": "code",
   "execution_count": 24,
   "id": "b3d59ede",
   "metadata": {},
   "outputs": [],
   "source": [
    "import numpy as np\n",
    "import cmath\n",
    "import random\n",
    "from functools import partial\n",
    "from scipy.optimize import minimize\n",
    "from tqdm import tqdm"
   ]
  },
  {
   "cell_type": "code",
   "execution_count": 25,
   "id": "4076c691",
   "metadata": {},
   "outputs": [],
   "source": [
    "random.seed(42)"
   ]
  },
  {
   "cell_type": "code",
   "execution_count": 26,
   "id": "6e021f66",
   "metadata": {},
   "outputs": [],
   "source": [
    "# System parameters (from notebook)\n",
    "noise_power_density = 5.0119e-21\n",
    "W = 10e6\n",
    "circuit_power = 1\n",
    "max_power = 1\n",
    "num_samples = 10000\n",
    "chan_realisations = 100\n",
    "N_ris = 32\n",
    "x_range, y_range, z_range = (0, 1000), (0, 1000), (0, 50)\n",
    "ris_position = [500, 500, 25]\n",
    "p_0 = -0.001"
   ]
  },
  {
   "cell_type": "markdown",
   "id": "385c61e0",
   "metadata": {},
   "source": [
    "# Step 1: Generate nodes in 3D space"
   ]
  },
  {
   "cell_type": "code",
   "execution_count": 27,
   "id": "5d4a0ea0",
   "metadata": {},
   "outputs": [],
   "source": [
    "def generate_random_coordinates(n_devices, x_range, y_range, z_range):\n",
    "    \"\"\"Generate random coordinates for devices in a 3D space.\"\"\"\n",
    "    coordinates = np.zeros((n_devices, 3))\n",
    "    for i in range(n_devices):\n",
    "        x = np.random.uniform(*x_range)\n",
    "        y = np.random.uniform(*y_range)\n",
    "        z = np.random.uniform(*z_range)\n",
    "        coordinates[i] = [x, y, z]\n",
    "    return coordinates"
   ]
  },
  {
   "cell_type": "markdown",
   "id": "2d27a609",
   "metadata": {},
   "source": [
    "# Step 2: Define channel"
   ]
  },
  {
   "cell_type": "code",
   "execution_count": 28,
   "id": "70c65a8d",
   "metadata": {},
   "outputs": [],
   "source": [
    "def rician_fading(K_db, size):\n",
    "    \"\"\"Generate Rician fading with given K-factor in dB.\"\"\"\n",
    "    K_linear = 10 ** (K_db / 10)  # Convert dB to linear\n",
    "    los = np.sqrt(K_linear / (K_linear + 1))  # LOS component\n",
    "    nlos = np.sqrt(1 / (K_linear + 1)) * (np.random.normal(0, 1, size) + 1j * np.random.normal(0, 1, size)) / np.sqrt(2)\n",
    "    return los + nlos\n",
    "\n",
    "def calculate_distance(coord1, coord2):\n",
    "    \"\"\"Calculate Euclidean distance between two 3D coordinates.\"\"\"\n",
    "    return np.linalg.norm(np.array(coord1) - np.array(coord2))"
   ]
  },
  {
   "cell_type": "code",
   "execution_count": 29,
   "id": "0182cf96",
   "metadata": {},
   "outputs": [],
   "source": [
    "def generate_ris_channel_model(ref_path_loss, tx, rx, ris_pos, N_ris, p_block=0.3, p_attenuate=0.3, attenuate_db_range=(10, 20)):\n",
    "    \"\"\"\n",
    "    Generate RIS-aided channel model with blockage, Rician fading, and attenuation.\n",
    "    \n",
    "    Args:\n",
    "        ref_path_loss: Reference path loss at 1m.\n",
    "        tx: Transmitter coordinates (x, y, z).\n",
    "        rx: Receiver coordinates (x, y, z).\n",
    "        ris_pos: RIS coordinates (x, y, z).\n",
    "        N_ris: Number of RIS elements.\n",
    "        p_block: Probability of direct path blockage (default: 0.3).\n",
    "        p_attenuate: Probability of attenuation for non-blocked direct paths (default: 0.3).\n",
    "        attenuate_db_range: Range of attenuation in dB for non-blocked paths (default: (10, 20)).\n",
    "    \n",
    "    Returns:\n",
    "        h_d: Direct channel (1 x chan_realisations).\n",
    "        g_BR: BS-RIS channel (N_ris x chan_realisations).\n",
    "        g_RU: RIS-UE channel (N_ris x chan_realisations).\n",
    "    \"\"\"\n",
    "    h_d = np.zeros((1, chan_realisations), dtype=complex)\n",
    "    g_BR = np.zeros((N_ris, chan_realisations), dtype=complex)\n",
    "    g_RU = np.zeros((N_ris, chan_realisations), dtype=complex)\n",
    "\n",
    "    epsilon = 1e-10\n",
    "    # Distances\n",
    "    d_tx_rx = max(calculate_distance(tx, rx), epsilon)\n",
    "    d_tx_ris = max(calculate_distance(tx, ris_pos), epsilon)\n",
    "    d_ris_rx = max(calculate_distance(ris_pos, rx), epsilon)\n",
    "\n",
    "    # Path loss (exponent 3 for urban environment)\n",
    "    pl_direct = cmath.sqrt(ref_path_loss / (d_tx_rx ** 3))\n",
    "    pl_BR = cmath.sqrt(ref_path_loss / (d_tx_ris ** 3))\n",
    "    pl_RU = cmath.sqrt(ref_path_loss / (d_ris_rx ** 3))\n",
    "\n",
    "    # Direct path: 30% blocked, 70% Rician with random K\n",
    "    block_mask = np.random.rand(chan_realisations) < p_block  # True where blocked\n",
    "    non_blocked = ~block_mask\n",
    "\n",
    "    # Rician fading for direct path\n",
    "    K_db = np.random.choice([0, 3, 7, 10], size=chan_realisations, p=[0.4, 0.3, 0.2, 0.1])\n",
    "    fading_direct = np.zeros((1, chan_realisations), dtype=complex)\n",
    "    for i in range(chan_realisations):\n",
    "        if non_blocked[i]:\n",
    "            fading_direct[0, i] = rician_fading(K_db[i], size=1)\n",
    "\n",
    "    # Apply random attenuation to some non-blocked paths\n",
    "    attenuate_mask = np.random.rand(chan_realisations) < p_attenuate  # True where attenuated\n",
    "    attenuate_mask = attenuate_mask & non_blocked  # Only attenuate non-blocked paths\n",
    "    attenuate_db = np.random.uniform(attenuate_db_range[0], attenuate_db_range[1], size=chan_realisations)\n",
    "    attenuate_linear = 10 ** (-attenuate_db / 10)\n",
    "\n",
    "    h_d[0, :] = fading_direct * pl_direct\n",
    "    h_d[0, block_mask] = 0  # Block direct path\n",
    "    h_d[0, attenuate_mask] *= attenuate_linear[attenuate_mask]  # Apply attenuation\n",
    "\n",
    "    # Rician fading for RIS paths\n",
    "    K_db_ris = np.random.choice([0, 3, 7, 10], size=chan_realisations, p=[0.4, 0.3, 0.2, 0.1])\n",
    "    fading_BR = np.zeros((N_ris, chan_realisations), dtype=complex)\n",
    "    fading_RU = np.zeros((N_ris, chan_realisations), dtype=complex)\n",
    "    for i in range(chan_realisations):\n",
    "        fading_BR[:, i] = rician_fading(K_db_ris[i], size=N_ris)\n",
    "        fading_RU[:, i] = rician_fading(K_db_ris[i], size=N_ris)\n",
    "\n",
    "    g_BR = fading_BR * pl_BR\n",
    "    g_RU = fading_RU * pl_RU\n",
    "\n",
    "    return h_d, g_BR, g_RU"
   ]
  },
  {
   "cell_type": "markdown",
   "id": "d20e15f7",
   "metadata": {},
   "source": [
    "# Step 3: Define channel gain"
   ]
  },
  {
   "cell_type": "code",
   "execution_count": 30,
   "id": "a89d5b0a",
   "metadata": {},
   "outputs": [],
   "source": [
    "def generate_ris_channel_gains(h_d, g_BR, g_RU, theta):\n",
    "    \"\"\"Calculate channel gains with RIS phase shifts.\"\"\"\n",
    "    N_ris = g_BR.shape[0]\n",
    "    h_r = np.zeros((1, chan_realisations), dtype=complex)\n",
    "    for n in range(N_ris):\n",
    "        h_r += g_RU[n, :] * np.exp(1j * theta[n]) * g_BR[n, :]\n",
    "    h_total = h_d + h_r\n",
    "    g = np.abs(h_total) ** 2\n",
    "    return g"
   ]
  },
  {
   "cell_type": "markdown",
   "id": "22d496af",
   "metadata": {},
   "source": [
    "# Step 4: Define spectral and energy efficiency functions"
   ]
  },
  {
   "cell_type": "code",
   "execution_count": 31,
   "id": "7a6774c6",
   "metadata": {},
   "outputs": [],
   "source": [
    "def ris_spectral_efficiency(P, g, N0, W):\n",
    "    \"\"\"Calculate spectral efficiency for RIS-aided system.\"\"\"\n",
    "    epsilon = 1e-10\n",
    "    term = np.maximum(1 + P * g / (N0 * W), epsilon)\n",
    "    SE = np.log2(term)\n",
    "    return np.mean(SE)\n",
    "\n",
    "def ris_energy_efficiency(P, g, N0, W, Pc):\n",
    "    \"\"\"Calculate energy efficiency.\"\"\"\n",
    "    SE = ris_spectral_efficiency(P, g, N0, W)\n",
    "    EE = SE / (P + Pc)\n",
    "    return EE"
   ]
  },
  {
   "cell_type": "markdown",
   "id": "723d0bf8",
   "metadata": {},
   "source": [
    "# step 5 : finding optimal RIS phases"
   ]
  },
  {
   "cell_type": "code",
   "execution_count": 32,
   "id": "8ce8ae01",
   "metadata": {},
   "outputs": [],
   "source": [
    "def optimize_ris_phases(h_d, g_BR, g_RU, P, N0, W, Pc, objective='SE'):\n",
    "    \"\"\"Optimize RIS phase shifts.\"\"\"\n",
    "    N_ris = g_BR.shape[0]\n",
    "    initial_theta = np.random.uniform(0, 2 * np.pi, N_ris)\n",
    "\n",
    "    def objective_fn(theta):\n",
    "        g = generate_ris_channel_gains(h_d, g_BR, g_RU, theta)\n",
    "        if objective == 'SE':\n",
    "            return -ris_spectral_efficiency(P, g, N0, W)\n",
    "        else:\n",
    "            return -ris_energy_efficiency(P, g, N0, W, Pc)\n",
    "\n",
    "    bounds = [(0, 2 * np.pi)] * N_ris\n",
    "    result = minimize(objective_fn, initial_theta, bounds=bounds, method='SLSQP')\n",
    "    theta_opt = result.x\n",
    "    g_opt = generate_ris_channel_gains(h_d, g_BR, g_RU, theta_opt)\n",
    "    return theta_opt, g_opt"
   ]
  },
  {
   "cell_type": "markdown",
   "id": "4c46d8f5",
   "metadata": {},
   "source": [
    "Dataset generation"
   ]
  },
  {
   "cell_type": "code",
   "execution_count": 33,
   "id": "a69fb754",
   "metadata": {},
   "outputs": [],
   "source": [
    "def process_ris_sample(sample, ref_path_loss, N0, W, Pc, P, N_ris, ris_pos, verbose=False):\n",
    "    \"\"\"\n",
    "    Process a single sample for the RIS dataset with enhanced logging.\n",
    "    \n",
    "    Args:\n",
    "        sample: Sample index (for logging).\n",
    "        ref_path_loss: Reference path loss at 1m.\n",
    "        N0: Noise power density (W/Hz).\n",
    "        W: Bandwidth (Hz).\n",
    "        Pc: Circuit power (W).\n",
    "        P: Transmit power (W).\n",
    "        N_ris: Number of RIS elements.\n",
    "        ris_pos: RIS coordinates (x, y, z).\n",
    "        verbose: If True, print detailed logs (default: False).\n",
    "    \n",
    "    Returns:\n",
    "        line_se: Formatted string for spectral efficiency (SE) dataset.\n",
    "        line_ee: Formatted string for energy efficiency (EE) dataset.\n",
    "    \"\"\"\n",
    "    if verbose:\n",
    "        print(f\"Processing sample {sample + 1}...\")\n",
    "\n",
    "    # Generate coordinates\n",
    "    if verbose:\n",
    "        print(\"  Generating random coordinates...\")\n",
    "    tx = generate_random_coordinates(1, x_range, y_range, z_range)[0]\n",
    "    rx = generate_random_coordinates(1, x_range, y_range, z_range)[0]\n",
    "    if verbose:\n",
    "        print(f\"    Tx: {tx}, Rx: {rx}, RIS: {ris_pos}\")\n",
    "\n",
    "    # Generate channels with blockage, Rician fading, and attenuation\n",
    "    if verbose:\n",
    "        print(\"  Generating channel coefficients...\")\n",
    "    h_d, g_BR, g_RU = generate_ris_channel_model(\n",
    "        ref_path_loss, tx, rx, ris_pos, N_ris,\n",
    "        p_block=0.3, p_attenuate=0.3, attenuate_db_range=(10, 20)\n",
    "    )\n",
    "    if verbose:\n",
    "        print(f\"    Direct path (h_d) shape: {h_d.shape}, mean abs: {np.mean(np.abs(h_d)):.4f}\")\n",
    "        print(f\"    BS-RIS (g_BR) shape: {g_BR.shape}, mean abs: {np.mean(np.abs(g_BR)):.4f}\")\n",
    "        print(f\"    RIS-UE (g_RU) shape: {g_RU.shape}, mean abs: {np.mean(np.abs(g_RU)):.4f}\")\n",
    "\n",
    "    # Optimize for SE and EE\n",
    "    if verbose:\n",
    "        print(\"  Optimizing RIS phase shifts for SE...\")\n",
    "    theta_se, g_se = optimize_ris_phases(h_d, g_BR, g_RU, P, N0, W, Pc, objective='SE')\n",
    "    if verbose:\n",
    "        print(f\"    SE: Mean channel gain = {np.mean(g_se):.4f}, Phase shifts (first 5): {theta_se[:5]}\")\n",
    "        print(\"  Optimizing RIS phase shifts for EE...\")\n",
    "    theta_ee, g_ee = optimize_ris_phases(h_d, g_BR, g_RU, P, N0, W, Pc, objective='EE')\n",
    "    if verbose:\n",
    "        print(f\"    EE: Mean channel gain = {np.mean(g_ee):.4f}, Phase shifts (first 5): {theta_ee[:5]}\")\n",
    "\n",
    "    # Normalize channel gains\n",
    "    if verbose:\n",
    "        print(\"  Normalizing channel gains...\")\n",
    "    mean_g_se, std_g_se = np.mean(g_se), np.std(g_se)\n",
    "    mean_g_ee, std_g_ee = np.mean(g_ee), np.std(g_ee)\n",
    "    normalized_g_se = np.round(((g_se - mean_g_se) / std_g_se) * 100).astype(int) if std_g_se > 0 else np.zeros_like(g_se)\n",
    "    normalized_g_ee = np.round(((g_ee - mean_g_ee) / std_g_ee) * 100).astype(int) if std_g_ee > 0 else np.zeros_like(g_ee)\n",
    "    if verbose:\n",
    "        print(f\"    SE: Normalized gains (first 4): {normalized_g_se[:4]}\")\n",
    "        print(f\"    EE: Normalized gains (first 4): {normalized_g_ee[:4]}\")\n",
    "\n",
    "    # Normalize phase shifts (map [0, 2π] to [0, 100])\n",
    "    if verbose:\n",
    "        print(\"  Normalizing phase shifts...\")\n",
    "    normalized_theta_se = np.round((theta_se / (2 * np.pi)) * 100).astype(int)\n",
    "    normalized_theta_ee = np.round((theta_ee / (2 * np.pi)) * 100).astype(int)\n",
    "    if verbose:\n",
    "        print(f\"    SE: Normalized phase shifts (first 5): {normalized_theta_se[:5]}\")\n",
    "        print(f\"    EE: Normalized phase shifts (first 5): {normalized_theta_ee[:5]}\")\n",
    "\n",
    "    # Format output\n",
    "    if verbose:\n",
    "        print(\"  Formatting output strings...\")\n",
    "    line_se = f\"If channel gains are {', '.join(map(str, normalized_g_se[:4]))}, then RIS phase shifts are {', '.join(map(str, normalized_theta_se))}.\\\\n\"\n",
    "    line_ee = f\"If channel gains are {', '.join(map(str, normalized_g_ee[:4]))}, then RIS phase shifts are {', '.join(map(str, normalized_theta_ee))}.\\\\n\"\n",
    "    if verbose:\n",
    "        print(\"  Sample processing complete.\")\n",
    "\n",
    "    return line_se, line_ee"
   ]
  },
  {
   "cell_type": "markdown",
   "id": "0e07ce7a",
   "metadata": {},
   "source": [
    "# Running Simulation"
   ]
  },
  {
   "cell_type": "code",
   "execution_count": 36,
   "id": "7b98e382",
   "metadata": {},
   "outputs": [
    {
     "name": "stdout",
     "output_type": "stream",
     "text": [
      "Generating 10000 samples for RIS dataset...\n"
     ]
    },
    {
     "name": "stderr",
     "output_type": "stream",
     "text": [
      "Processing samples:   0%|          | 0/10000 [00:00<?, ?sample/s]C:\\Users\\Muhammad Jamshaid\\AppData\\Local\\Temp\\ipykernel_2452\\1514025687.py:44: DeprecationWarning: Conversion of an array with ndim > 0 to a scalar is deprecated, and will error in future. Ensure you extract a single element from your array before performing this operation. (Deprecated NumPy 1.25.)\n",
      "  fading_direct[0, i] = rician_fading(K_db[i], size=1)\n",
      "Processing samples: 100%|██████████| 10000/10000 [03:53<00:00, 42.89sample/s]\n"
     ]
    },
    {
     "name": "stdout",
     "output_type": "stream",
     "text": [
      "Saving dataset to files...\n",
      "Dataset generation complete.\n"
     ]
    }
   ],
   "source": [
    "process_sample_partial = partial(\n",
    "    process_ris_sample,\n",
    "    ref_path_loss=p_0,\n",
    "    N0=noise_power_density,\n",
    "    W=W,\n",
    "    Pc=circuit_power,\n",
    "    P=max_power,\n",
    "    N_ris=N_ris,\n",
    "    ris_pos=ris_position,\n",
    "    verbose=False # Set to True for detailed logs\n",
    ")\n",
    "\n",
    "results_se = []\n",
    "results_ee = []\n",
    "print(f\"Generating {num_samples} samples for RIS dataset...\")\n",
    "for sample in tqdm(range(num_samples), desc=\"Processing samples\", unit=\"sample\"):\n",
    "    line_se, line_ee = process_sample_partial(sample)\n",
    "    results_se.append(line_se)\n",
    "    results_ee.append(line_ee)\n",
    "\n",
    "# Save to files\n",
    "print(\"Saving dataset to files...\")\n",
    "with open('ris_se.txt', 'w') as file_se:\n",
    "    file_se.writelines(results_se)\n",
    "with open('ris_ee.txt', 'w') as file_ee:\n",
    "    file_ee.writelines(results_ee)\n",
    "print(\"Dataset generation complete.\")"
   ]
  },
  {
   "cell_type": "markdown",
   "id": "733333f7",
   "metadata": {},
   "source": []
  }
 ],
 "metadata": {
  "kernelspec": {
   "display_name": "fyp",
   "language": "python",
   "name": "fyp"
  },
  "language_info": {
   "codemirror_mode": {
    "name": "ipython",
    "version": 3
   },
   "file_extension": ".py",
   "mimetype": "text/x-python",
   "name": "python",
   "nbconvert_exporter": "python",
   "pygments_lexer": "ipython3",
   "version": "3.12.7"
  }
 },
 "nbformat": 4,
 "nbformat_minor": 5
}
